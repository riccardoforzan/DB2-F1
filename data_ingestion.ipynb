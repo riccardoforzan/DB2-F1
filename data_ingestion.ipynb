{
 "cells": [
  {
   "cell_type": "code",
   "execution_count": 22,
   "metadata": {},
   "outputs": [],
   "source": [
    "import os\n",
    "import datetime\n",
    "import pandas as pd\n",
    "import numpy as np\n",
    "from pathlib import Path"
   ]
  },
  {
   "cell_type": "code",
   "execution_count": 23,
   "metadata": {},
   "outputs": [],
   "source": [
    "from rdflib import Graph, Literal, RDF, URIRef, Namespace, RDFS\n",
    "from rdflib.namespace import FOAF, XSD"
   ]
  },
  {
   "cell_type": "markdown",
   "metadata": {},
   "source": [
    "Get the path in which the notebook is executing"
   ]
  },
  {
   "cell_type": "code",
   "execution_count": 24,
   "metadata": {},
   "outputs": [],
   "source": [
    "base_path = str(Path(os.path.abspath(os.getcwd())))"
   ]
  },
  {
   "cell_type": "markdown",
   "metadata": {},
   "source": [
    "Initialize external ontologies"
   ]
  },
  {
   "cell_type": "code",
   "execution_count": 25,
   "metadata": {},
   "outputs": [],
   "source": [
    "CNS = Namespace(\"http://eulersharp.sourceforge.net/2003/03swap/countries#\")\n",
    "W3ID_PERSON = Namespace(\"https://w3id.org/MON/person.owl#Person\")\n",
    "DBPEDIA_F1 = Namespace(\"http://dbpedia.org/resource/FormulaOneTeam#\")\n",
    "SCHEMA_CITY = Namespace(\"https://schema.org/City#\")\n",
    "F1 = Namespace(\"http://www.dei.unipd.it/database2/Formula1Ontology#\")"
   ]
  },
  {
   "cell_type": "markdown",
   "metadata": {},
   "source": [
    "Load the CSV files that maps between denominations and country"
   ]
  },
  {
   "cell_type": "code",
   "execution_count": 28,
   "metadata": {},
   "outputs": [],
   "source": [
    "denom_csv = base_path + '/data/utils/denom.csv'\n",
    "denom_df = pd.read_csv(denom_csv, sep=',')\n",
    "denom_df['country'] = denom_df['country'].str.replace(' ','')     #remove white spaces from country names"
   ]
  },
  {
   "cell_type": "markdown",
   "metadata": {},
   "source": [
    "# Import circuit data"
   ]
  },
  {
   "cell_type": "markdown",
   "metadata": {},
   "source": [
    "Create the graph"
   ]
  },
  {
   "cell_type": "code",
   "execution_count": 41,
   "metadata": {},
   "outputs": [],
   "source": [
    "g = Graph()\n",
    "g.bind(\"xsd\", XSD)\n",
    "g.bind(\"countries\", CNS)\n",
    "g.bind(\"cities\", SCHEMA_CITY)\n",
    "g.bind(\"f1\", F1)"
   ]
  },
  {
   "cell_type": "code",
   "execution_count": 42,
   "metadata": {},
   "outputs": [],
   "source": [
    "circuits_csv = base_path + '/data/circuits.csv'\n",
    "\n",
    "circuits_df = pd.read_csv(circuits_csv, sep=',', index_col='circuitId')\n",
    "circuits_df['alt'].replace(to_replace='\\\\N',value=None,inplace=True)    #remove '\\N' values from the dataset\n",
    "circuits_df['country'] = circuits_df['country'].str.replace(' ','')     #remove white spaces from country names\n",
    "circuits_df['location'] = circuits_df['location'].str.replace(' ','')     #remove white spaces from city names"
   ]
  },
  {
   "cell_type": "markdown",
   "metadata": {},
   "source": [
    "Iterate over the circuit's data frame"
   ]
  },
  {
   "cell_type": "code",
   "execution_count": 43,
   "metadata": {},
   "outputs": [],
   "source": [
    "for index, row in circuits_df.iterrows():\n",
    "    idC = \"circuit\"+str(index)  # create a unique identifier for the circuit\n",
    "    Circuit = URIRef(F1[idC])   # create the circuit\n",
    "\n",
    "    g.add((Circuit, RDF.type, F1.Circuit))\n",
    "    g.add((Circuit, F1['name'], Literal(row['name'], datatype=XSD.string)))\n",
    "\n",
    "    #add altitude info\n",
    "    if not row['alt'] == None:\n",
    "        g.add((Circuit, F1['altitude'], Literal(row['alt'], datatype=XSD.int)))\n",
    "\n",
    "    #add latitude info\n",
    "    g.add((Circuit, F1['latitude'], Literal(row['lat'], datatype=XSD.decimal)))\n",
    "\n",
    "    #add longitude info\n",
    "    g.add((Circuit, F1['longitude'], Literal(row['lng'], datatype=XSD.decimal)))\n",
    "\n",
    "    #add circuit city\n",
    "    City = URIRef(SCHEMA_CITY[row[\"location\"]])\n",
    "    g.add((Circuit, F1['hasCity'], City))\n",
    "\n",
    "    Country = URIRef(CNS[row['country']])\n",
    "    g.add((Circuit, F1['hasCountry'], Country))\n"
   ]
  },
  {
   "cell_type": "markdown",
   "metadata": {},
   "source": [
    "Export the serialized graph"
   ]
  },
  {
   "cell_type": "code",
   "execution_count": 44,
   "metadata": {},
   "outputs": [],
   "source": [
    "with open(base_path + '/rdf/circuits.ttl', 'w') as file:\n",
    "    file.write(g.serialize(format='turtle'))"
   ]
  },
  {
   "cell_type": "markdown",
   "metadata": {},
   "source": [
    "# Import constructor data"
   ]
  },
  {
   "cell_type": "markdown",
   "metadata": {},
   "source": [
    "Create the graph"
   ]
  },
  {
   "cell_type": "code",
   "execution_count": 45,
   "metadata": {},
   "outputs": [],
   "source": [
    "g = Graph()\n",
    "g.bind(\"xsd\", XSD)\n",
    "g.bind(\"countries\", CNS)\n",
    "g.bind(\"f1\", F1)\n",
    "g.bind(\"dbpedia_f1\", DBPEDIA_F1)"
   ]
  },
  {
   "cell_type": "code",
   "execution_count": 46,
   "metadata": {},
   "outputs": [],
   "source": [
    "constructors_csv = base_path + '/data/constructors.csv'\n",
    "constructors_df = pd.read_csv(constructors_csv, sep=',', index_col='constructorId')"
   ]
  },
  {
   "cell_type": "markdown",
   "metadata": {},
   "source": [
    "Load constructor participation: associate constructor nationality to country"
   ]
  },
  {
   "cell_type": "code",
   "execution_count": 47,
   "metadata": {},
   "outputs": [],
   "source": [
    "constructors_df = pd.merge(constructors_df, denom_df, on='nationality', how='inner')"
   ]
  },
  {
   "cell_type": "markdown",
   "metadata": {},
   "source": [
    "Load constructor's data"
   ]
  },
  {
   "cell_type": "code",
   "execution_count": 48,
   "metadata": {},
   "outputs": [],
   "source": [
    "constructor_standings_csv = base_path + '/data/constructor_standings.csv'\n",
    "constructor_standings_df = pd.read_csv(constructor_standings_csv, sep=',', index_col='constructorStandingsId')"
   ]
  },
  {
   "cell_type": "code",
   "execution_count": 49,
   "metadata": {},
   "outputs": [],
   "source": [
    "constructor_results_csv = base_path + '/data/constructor_results.csv'\n",
    "constructor_results_df = pd.read_csv(constructor_results_csv, sep=',', index_col='constructorResultsId')"
   ]
  },
  {
   "cell_type": "markdown",
   "metadata": {},
   "source": [
    "Iterate over the constructor's data frame"
   ]
  },
  {
   "cell_type": "code",
   "execution_count": 52,
   "metadata": {},
   "outputs": [],
   "source": [
    "for constructorId, row in constructors_df.iterrows():\n",
    "    idCons = \"constructor\"+str(constructorId)   #unique identifier for the constructor\n",
    "    FormulaOneTeam = URIRef(DBPEDIA_F1[idCons])\n",
    "\n",
    "    g.add((FormulaOneTeam, RDF.type, DBPEDIA_F1.FormulaOneTeam))\n",
    "    g.add((FormulaOneTeam, F1['name'], Literal(row['name'], datatype=XSD.string)))\n",
    "\n",
    "    Country = URIRef(CNS[row['country']])\n",
    "    g.add((FormulaOneTeam, F1['hasCountry'], Country))\n",
    "\n",
    "    # Find all the races in which a constructor has participated\n",
    "    participatedRaces = constructor_results_df.loc[constructor_results_df['constructorId'] == constructorId]\n",
    "\n",
    "    for participationId, row in participatedRaces.iterrows():\n",
    "        idPart = \"participation\"+str(participationId)\n",
    "        Participate = URIRef(F1[idPart])\n",
    "        g.add((Participate, RDF.type, F1.Participate))\n",
    "\n",
    "        #searching the constructor standing data (points, number of victories and position) after the participation \n",
    "        g.add((Participate, F1['cp_points_after_race'], Literal(constructor_standings_df['points'].iloc[0], datatype=XSD.int)))\n",
    "        g.add((Participate, F1['cp_position_after_race'], Literal(constructor_standings_df['position'].iloc[0], datatype=XSD.int)))\n",
    "        g.add((Participate, F1['number_of_wins_after_race'], Literal(constructor_standings_df['wins'].iloc[0], datatype=XSD.int)))\n",
    "\n",
    "        #add the race_weekend associated to the drive\n",
    "        idRWE = \"raceWeekEnd\"+str(row['raceId'])\n",
    "        g.add((Participate, F1['during'], URIRef(F1[idRWE])))\n",
    "\n",
    "        #add the drive\n",
    "        g.add((FormulaOneTeam, F1['partecipateIn'], Participate))"
   ]
  },
  {
   "cell_type": "markdown",
   "metadata": {},
   "source": [
    "Saving data"
   ]
  },
  {
   "cell_type": "code",
   "execution_count": 51,
   "metadata": {},
   "outputs": [],
   "source": [
    "with open(base_path + '/rdf/constructors.ttl', 'w') as file:\n",
    "    file.write(g.serialize(format='turtle'))"
   ]
  },
  {
   "cell_type": "markdown",
   "metadata": {},
   "source": [
    "# Import driver data"
   ]
  },
  {
   "cell_type": "markdown",
   "metadata": {},
   "source": [
    "Create the graph and bind the ontologies namespaces"
   ]
  },
  {
   "cell_type": "code",
   "execution_count": 26,
   "metadata": {},
   "outputs": [],
   "source": [
    "g = Graph()\n",
    "g.bind(\"person\", W3ID_PERSON)\n",
    "g.bind(\"xsd\", XSD)\n",
    "g.bind(\"countries\", CNS)\n",
    "g.bind(\"f1\", F1)"
   ]
  },
  {
   "cell_type": "markdown",
   "metadata": {},
   "source": [
    "Read the drivers from the csv file"
   ]
  },
  {
   "cell_type": "code",
   "execution_count": 49,
   "metadata": {},
   "outputs": [],
   "source": [
    "drivers_csv = base_path + '/data/drivers.csv'                               \n",
    "driver_df = pd.read_csv(drivers_csv, sep=',')\n",
    "driver_df['number'].replace(to_replace='\\\\N',value=None,inplace=True)       #remove '\\N' values from the dataset\n",
    "driver_df['code'].replace(to_replace='\\\\N',value=None,inplace=True)         #remove '\\N' values from the dataset\n",
    "driver_df = pd.merge(driver_df, denom_df, on='nationality', how='inner')    #associate the nationality"
   ]
  },
  {
   "cell_type": "markdown",
   "metadata": {},
   "source": [
    "Read the drivers race results from the csv file"
   ]
  },
  {
   "cell_type": "code",
   "execution_count": 30,
   "metadata": {},
   "outputs": [],
   "source": [
    "results_csv = base_path + '/data/results.csv'\n",
    "results_df = pd.read_csv(results_csv, sep=',', index_col='resultId')"
   ]
  },
  {
   "cell_type": "markdown",
   "metadata": {},
   "source": [
    "Read the drivers qualifying results from the csv file"
   ]
  },
  {
   "cell_type": "code",
   "execution_count": 31,
   "metadata": {},
   "outputs": [],
   "source": [
    "qualifying_csv = base_path + '/data/qualifying.csv'\n",
    "qualifying_df = pd.read_csv(qualifying_csv, sep=',', index_col='qualifyId')"
   ]
  },
  {
   "cell_type": "markdown",
   "metadata": {},
   "source": [
    "Read the drivers sprint race results from the csv file (Warning: not all the race week ends have a sprint race)"
   ]
  },
  {
   "cell_type": "code",
   "execution_count": 32,
   "metadata": {},
   "outputs": [],
   "source": [
    "sprint_races_csv = base_path + '/data/sprint_results.csv'\n",
    "sprint_races_df = pd.read_csv(sprint_races_csv, sep=',', index_col='resultId')"
   ]
  },
  {
   "cell_type": "markdown",
   "metadata": {},
   "source": [
    "Read the driver championship standing from the csv file"
   ]
  },
  {
   "cell_type": "code",
   "execution_count": 33,
   "metadata": {},
   "outputs": [],
   "source": [
    "driver_standings_csv = base_path + '/data/driver_standings.csv'\n",
    "driver_standings_df = pd.read_csv(driver_standings_csv, sep=',', index_col='driverStandingsId')"
   ]
  },
  {
   "cell_type": "markdown",
   "metadata": {},
   "source": [
    "Read the race status from the csv file"
   ]
  },
  {
   "cell_type": "code",
   "execution_count": 34,
   "metadata": {},
   "outputs": [],
   "source": [
    "status_csv = base_path + '/data/status.csv'\n",
    "status_df = pd.read_csv(status_csv, sep=',', index_col='statusId')"
   ]
  },
  {
   "cell_type": "markdown",
   "metadata": {},
   "source": [
    "1) Create the drivers and associate all the informations\n",
    "2) Create the drives related to the drivers and associate all the informations"
   ]
  },
  {
   "cell_type": "code",
   "execution_count": 54,
   "metadata": {},
   "outputs": [
    {
     "name": "stdout",
     "output_type": "stream",
     "text": [
      "driver1\n"
     ]
    }
   ],
   "source": [
    "for driverId, row in driver_df.iterrows():\n",
    "    idD = \"driver\"+str(row['driverId'])\n",
    "    print(idD)\n",
    "    Driver = URIRef(F1[idD])\n",
    "    \n",
    "    #Driver is a subclass of Person\n",
    "    g.add((F1.Driver, RDFS.subClassOf, W3ID_PERSON.Person))\n",
    "    g.add((Driver, RDF.type, F1.Driver))\n",
    "    \n",
    "    #Add first_name, last_name and birth_date (Person data properties) to Driver\n",
    "    g.add((Driver, W3ID_PERSON['first_name'], Literal(row['forename'], datatype=XSD.string)))\n",
    "    g.add((Driver, W3ID_PERSON['last_name'], Literal(row['surname'], datatype=XSD.string)))\n",
    "    g.add((Driver, W3ID_PERSON['birth_date'], Literal(row['dob'], datatype=XSD.date)))\n",
    "\n",
    "    #Add driver number and code\n",
    "    if row['number'] != None:\n",
    "        g.add((Driver, F1['number'], Literal(row['number'], datatype=XSD.int)))\n",
    "    \n",
    "    if row['code'] != None:\n",
    "        g.add((Driver, F1['code'], Literal(row['code'], datatype=XSD.string)))       \n",
    "\n",
    "    #Add driver country\n",
    "    Country = URIRef(CNS[row['country']])\n",
    "    g.add((Driver, W3ID_PERSON['nationality'], Country))\n",
    "\n",
    "    #get all the race, qualifying, sprint race results of the given driver, these are the driver's drives\n",
    "    driverDrives = results_df.loc[results_df['driverId'] == driverId] \n",
    "    \n",
    "    #add the race status information\n",
    "    driverDrives = pd.merge(driverDrives, status_df, on='statusId', how='inner')\n",
    "\n",
    "    for driveId, row in driverDrives.iterrows():\n",
    "        idDrive = \"drive\"+str(driveId)\n",
    "\n",
    "        #create the Drive object, a Drive contains all the race weekend performance informations of a given driver\n",
    "        Drive = URIRef(F1[idDrive])\n",
    "\n",
    "        #id of the constructor for which the driver drives\n",
    "        idCons = \"constructor\"+str(row['constructorId'])\n",
    "        g.add((Drive, F1['driveFor'], URIRef(F1[idCons])))\n",
    "\n",
    "        g.add((Drive, RDF.type, F1.Drive))\n",
    "        g.add((Drive, F1['race_position'], Literal(row['positionOrder'], datatype=XSD.string))) \n",
    "        g.add((Drive, F1['race_fastest_lap'], Literal(row['fastestLapTime'], datatype=XSD.string)))\n",
    "        \n",
    "        #add race status\n",
    "        g.add((Drive, F1['status'], Literal(row['status'], datatype=XSD.string)))\n",
    "\n",
    "        #searching the qualify of the given driver in the given drive \n",
    "        qualifyDriver = qualifying_df.loc[(qualifying_df['driverId'] == driverId) & (qualifying_df['raceId'] == row['raceId'])] \n",
    "\n",
    "        #check for qualify times\n",
    "        if qualifyDriver.size > 0:\n",
    "            g.add((Drive, F1['quali_position'], Literal(qualifyDriver['position'].iloc[0], datatype=XSD.int)))\n",
    "            g.add((Drive, F1['q1_time'], Literal(qualifyDriver['q1'].iloc[0], datatype=XSD.string)))\n",
    "            g.add((Drive, F1['q2_time'], Literal(qualifyDriver['q2'].iloc[0], datatype=XSD.string)))\n",
    "            g.add((Drive, F1['q3_time'], Literal(qualifyDriver['q3'].iloc[0], datatype=XSD.string)))\n",
    "\n",
    "        #searching the sprint_race position of the given driver in the given drive if present\n",
    "        sprintDriver = sprint_races_df.loc[(sprint_races_df['driverId'] == driverId) & (sprint_races_df['raceId'] == row['raceId'])]\n",
    "\n",
    "        #check for sprint_race position\n",
    "        if sprintDriver.size > 0:\n",
    "            g.add((Drive, F1['sprint_position'], Literal(sprintDriver['position'].iloc[0], datatype=XSD.int)))\n",
    "\n",
    "        #searching the driver standing data (points, number of victories and position) after the drive \n",
    "        g.add((Drive, F1['cp_points_after_race'], Literal(driver_standings_df['points'].iloc[0], datatype=XSD.int)))\n",
    "        g.add((Drive, F1['cp_position_after_race'], Literal(driver_standings_df['position'].iloc[0], datatype=XSD.int)))\n",
    "        g.add((Drive, F1['number_of_wins'], Literal(driver_standings_df['wins'].iloc[0], datatype=XSD.int)))\n",
    "\n",
    "        #add the race_weekend associated to the drive\n",
    "        idRWE = \"raceWeekEnd\"+str(row['raceId'])\n",
    "        g.add((Drive, F1['during'], URIRef(F1[idRWE])))  \n",
    "\n",
    "        #add the drive\n",
    "        g.add((Driver, F1['hasDrivenIn'], Drive))\n"
   ]
  },
  {
   "cell_type": "markdown",
   "metadata": {},
   "source": [
    "Saving the data"
   ]
  },
  {
   "cell_type": "code",
   "execution_count": 53,
   "metadata": {},
   "outputs": [],
   "source": [
    "with open(base_path + '/rdf/drivers.ttl', 'w') as file:\n",
    "    file.write(g.serialize(format='turtle'))"
   ]
  },
  {
   "cell_type": "markdown",
   "metadata": {},
   "source": [
    "# Import Race Weekends"
   ]
  },
  {
   "cell_type": "markdown",
   "metadata": {},
   "source": [
    "Create the graph"
   ]
  },
  {
   "cell_type": "code",
   "execution_count": 60,
   "metadata": {},
   "outputs": [],
   "source": [
    "g = Graph()\n",
    "g.bind(\"xsd\", XSD)\n",
    "g.bind(\"f1\", F1)"
   ]
  },
  {
   "cell_type": "markdown",
   "metadata": {},
   "source": [
    "Read the race weekends from the csv file"
   ]
  },
  {
   "cell_type": "code",
   "execution_count": 62,
   "metadata": {},
   "outputs": [
    {
     "data": {
      "text/html": [
       "<div>\n",
       "<style scoped>\n",
       "    .dataframe tbody tr th:only-of-type {\n",
       "        vertical-align: middle;\n",
       "    }\n",
       "\n",
       "    .dataframe tbody tr th {\n",
       "        vertical-align: top;\n",
       "    }\n",
       "\n",
       "    .dataframe thead th {\n",
       "        text-align: right;\n",
       "    }\n",
       "</style>\n",
       "<table border=\"1\" class=\"dataframe\">\n",
       "  <thead>\n",
       "    <tr style=\"text-align: right;\">\n",
       "      <th></th>\n",
       "      <th>year</th>\n",
       "      <th>round</th>\n",
       "      <th>circuitId</th>\n",
       "      <th>name</th>\n",
       "      <th>date</th>\n",
       "      <th>time</th>\n",
       "      <th>url</th>\n",
       "      <th>fp1_date</th>\n",
       "      <th>fp1_time</th>\n",
       "      <th>fp2_date</th>\n",
       "      <th>fp2_time</th>\n",
       "      <th>fp3_date</th>\n",
       "      <th>fp3_time</th>\n",
       "      <th>quali_date</th>\n",
       "      <th>quali_time</th>\n",
       "      <th>sprint_date</th>\n",
       "      <th>sprint_time</th>\n",
       "    </tr>\n",
       "    <tr>\n",
       "      <th>raceId</th>\n",
       "      <th></th>\n",
       "      <th></th>\n",
       "      <th></th>\n",
       "      <th></th>\n",
       "      <th></th>\n",
       "      <th></th>\n",
       "      <th></th>\n",
       "      <th></th>\n",
       "      <th></th>\n",
       "      <th></th>\n",
       "      <th></th>\n",
       "      <th></th>\n",
       "      <th></th>\n",
       "      <th></th>\n",
       "      <th></th>\n",
       "      <th></th>\n",
       "      <th></th>\n",
       "    </tr>\n",
       "  </thead>\n",
       "  <tbody>\n",
       "    <tr>\n",
       "      <th>1</th>\n",
       "      <td>2009</td>\n",
       "      <td>1</td>\n",
       "      <td>1</td>\n",
       "      <td>Australian Grand Prix</td>\n",
       "      <td>2009-03-29</td>\n",
       "      <td>06:00:00</td>\n",
       "      <td>http://en.wikipedia.org/wiki/2009_Australian_G...</td>\n",
       "      <td>\\N</td>\n",
       "      <td>\\N</td>\n",
       "      <td>\\N</td>\n",
       "      <td>\\N</td>\n",
       "      <td>\\N</td>\n",
       "      <td>\\N</td>\n",
       "      <td>\\N</td>\n",
       "      <td>\\N</td>\n",
       "      <td>\\N</td>\n",
       "      <td>\\N</td>\n",
       "    </tr>\n",
       "    <tr>\n",
       "      <th>2</th>\n",
       "      <td>2009</td>\n",
       "      <td>2</td>\n",
       "      <td>2</td>\n",
       "      <td>Malaysian Grand Prix</td>\n",
       "      <td>2009-04-05</td>\n",
       "      <td>09:00:00</td>\n",
       "      <td>http://en.wikipedia.org/wiki/2009_Malaysian_Gr...</td>\n",
       "      <td>\\N</td>\n",
       "      <td>\\N</td>\n",
       "      <td>\\N</td>\n",
       "      <td>\\N</td>\n",
       "      <td>\\N</td>\n",
       "      <td>\\N</td>\n",
       "      <td>\\N</td>\n",
       "      <td>\\N</td>\n",
       "      <td>\\N</td>\n",
       "      <td>\\N</td>\n",
       "    </tr>\n",
       "    <tr>\n",
       "      <th>3</th>\n",
       "      <td>2009</td>\n",
       "      <td>3</td>\n",
       "      <td>17</td>\n",
       "      <td>Chinese Grand Prix</td>\n",
       "      <td>2009-04-19</td>\n",
       "      <td>07:00:00</td>\n",
       "      <td>http://en.wikipedia.org/wiki/2009_Chinese_Gran...</td>\n",
       "      <td>\\N</td>\n",
       "      <td>\\N</td>\n",
       "      <td>\\N</td>\n",
       "      <td>\\N</td>\n",
       "      <td>\\N</td>\n",
       "      <td>\\N</td>\n",
       "      <td>\\N</td>\n",
       "      <td>\\N</td>\n",
       "      <td>\\N</td>\n",
       "      <td>\\N</td>\n",
       "    </tr>\n",
       "    <tr>\n",
       "      <th>4</th>\n",
       "      <td>2009</td>\n",
       "      <td>4</td>\n",
       "      <td>3</td>\n",
       "      <td>Bahrain Grand Prix</td>\n",
       "      <td>2009-04-26</td>\n",
       "      <td>12:00:00</td>\n",
       "      <td>http://en.wikipedia.org/wiki/2009_Bahrain_Gran...</td>\n",
       "      <td>\\N</td>\n",
       "      <td>\\N</td>\n",
       "      <td>\\N</td>\n",
       "      <td>\\N</td>\n",
       "      <td>\\N</td>\n",
       "      <td>\\N</td>\n",
       "      <td>\\N</td>\n",
       "      <td>\\N</td>\n",
       "      <td>\\N</td>\n",
       "      <td>\\N</td>\n",
       "    </tr>\n",
       "    <tr>\n",
       "      <th>5</th>\n",
       "      <td>2009</td>\n",
       "      <td>5</td>\n",
       "      <td>4</td>\n",
       "      <td>Spanish Grand Prix</td>\n",
       "      <td>2009-05-10</td>\n",
       "      <td>12:00:00</td>\n",
       "      <td>http://en.wikipedia.org/wiki/2009_Spanish_Gran...</td>\n",
       "      <td>\\N</td>\n",
       "      <td>\\N</td>\n",
       "      <td>\\N</td>\n",
       "      <td>\\N</td>\n",
       "      <td>\\N</td>\n",
       "      <td>\\N</td>\n",
       "      <td>\\N</td>\n",
       "      <td>\\N</td>\n",
       "      <td>\\N</td>\n",
       "      <td>\\N</td>\n",
       "    </tr>\n",
       "    <tr>\n",
       "      <th>...</th>\n",
       "      <td>...</td>\n",
       "      <td>...</td>\n",
       "      <td>...</td>\n",
       "      <td>...</td>\n",
       "      <td>...</td>\n",
       "      <td>...</td>\n",
       "      <td>...</td>\n",
       "      <td>...</td>\n",
       "      <td>...</td>\n",
       "      <td>...</td>\n",
       "      <td>...</td>\n",
       "      <td>...</td>\n",
       "      <td>...</td>\n",
       "      <td>...</td>\n",
       "      <td>...</td>\n",
       "      <td>...</td>\n",
       "      <td>...</td>\n",
       "    </tr>\n",
       "    <tr>\n",
       "      <th>1092</th>\n",
       "      <td>2022</td>\n",
       "      <td>18</td>\n",
       "      <td>22</td>\n",
       "      <td>Japanese Grand Prix</td>\n",
       "      <td>2022-10-09</td>\n",
       "      <td>05:00:00</td>\n",
       "      <td>http://en.wikipedia.org/wiki/2022_Japanese_Gra...</td>\n",
       "      <td>2022-10-07</td>\n",
       "      <td>04:00:00</td>\n",
       "      <td>2022-10-07</td>\n",
       "      <td>08:00:00</td>\n",
       "      <td>2022-10-08</td>\n",
       "      <td>04:00:00</td>\n",
       "      <td>2022-10-08</td>\n",
       "      <td>07:00:00</td>\n",
       "      <td>\\N</td>\n",
       "      <td>\\N</td>\n",
       "    </tr>\n",
       "    <tr>\n",
       "      <th>1093</th>\n",
       "      <td>2022</td>\n",
       "      <td>19</td>\n",
       "      <td>69</td>\n",
       "      <td>United States Grand Prix</td>\n",
       "      <td>2022-10-23</td>\n",
       "      <td>19:00:00</td>\n",
       "      <td>http://en.wikipedia.org/wiki/2022_United_State...</td>\n",
       "      <td>2022-10-21</td>\n",
       "      <td>19:00:00</td>\n",
       "      <td>2022-10-21</td>\n",
       "      <td>22:00:00</td>\n",
       "      <td>2022-10-22</td>\n",
       "      <td>19:00:00</td>\n",
       "      <td>2022-10-22</td>\n",
       "      <td>22:00:00</td>\n",
       "      <td>\\N</td>\n",
       "      <td>\\N</td>\n",
       "    </tr>\n",
       "    <tr>\n",
       "      <th>1094</th>\n",
       "      <td>2022</td>\n",
       "      <td>20</td>\n",
       "      <td>32</td>\n",
       "      <td>Mexico City Grand Prix</td>\n",
       "      <td>2022-10-30</td>\n",
       "      <td>20:00:00</td>\n",
       "      <td>http://en.wikipedia.org/wiki/2022_Mexican_Gran...</td>\n",
       "      <td>2022-10-28</td>\n",
       "      <td>18:00:00</td>\n",
       "      <td>2022-10-28</td>\n",
       "      <td>21:00:00</td>\n",
       "      <td>2022-10-29</td>\n",
       "      <td>17:00:00</td>\n",
       "      <td>2022-10-29</td>\n",
       "      <td>20:00:00</td>\n",
       "      <td>\\N</td>\n",
       "      <td>\\N</td>\n",
       "    </tr>\n",
       "    <tr>\n",
       "      <th>1095</th>\n",
       "      <td>2022</td>\n",
       "      <td>21</td>\n",
       "      <td>18</td>\n",
       "      <td>Brazilian Grand Prix</td>\n",
       "      <td>2022-11-13</td>\n",
       "      <td>18:00:00</td>\n",
       "      <td>http://en.wikipedia.org/wiki/2022_Brazilian_Gr...</td>\n",
       "      <td>2022-11-11</td>\n",
       "      <td>15:30:00</td>\n",
       "      <td>2022-11-12</td>\n",
       "      <td>15:30:00</td>\n",
       "      <td>\\N</td>\n",
       "      <td>\\N</td>\n",
       "      <td>2022-11-11</td>\n",
       "      <td>19:00:00</td>\n",
       "      <td>2022-11-12</td>\n",
       "      <td>19:30:00</td>\n",
       "    </tr>\n",
       "    <tr>\n",
       "      <th>1096</th>\n",
       "      <td>2022</td>\n",
       "      <td>22</td>\n",
       "      <td>24</td>\n",
       "      <td>Abu Dhabi Grand Prix</td>\n",
       "      <td>2022-11-20</td>\n",
       "      <td>13:00:00</td>\n",
       "      <td>http://en.wikipedia.org/wiki/2022_Abu_Dhabi_Gr...</td>\n",
       "      <td>2022-11-18</td>\n",
       "      <td>09:00:00</td>\n",
       "      <td>2022-11-18</td>\n",
       "      <td>12:00:00</td>\n",
       "      <td>2022-11-19</td>\n",
       "      <td>10:00:00</td>\n",
       "      <td>2022-11-19</td>\n",
       "      <td>13:00:00</td>\n",
       "      <td>\\N</td>\n",
       "      <td>\\N</td>\n",
       "    </tr>\n",
       "  </tbody>\n",
       "</table>\n",
       "<p>1079 rows × 17 columns</p>\n",
       "</div>"
      ],
      "text/plain": [
       "        year  round  circuitId                      name        date  \\\n",
       "raceId                                                                 \n",
       "1       2009      1          1     Australian Grand Prix  2009-03-29   \n",
       "2       2009      2          2      Malaysian Grand Prix  2009-04-05   \n",
       "3       2009      3         17        Chinese Grand Prix  2009-04-19   \n",
       "4       2009      4          3        Bahrain Grand Prix  2009-04-26   \n",
       "5       2009      5          4        Spanish Grand Prix  2009-05-10   \n",
       "...      ...    ...        ...                       ...         ...   \n",
       "1092    2022     18         22       Japanese Grand Prix  2022-10-09   \n",
       "1093    2022     19         69  United States Grand Prix  2022-10-23   \n",
       "1094    2022     20         32    Mexico City Grand Prix  2022-10-30   \n",
       "1095    2022     21         18      Brazilian Grand Prix  2022-11-13   \n",
       "1096    2022     22         24      Abu Dhabi Grand Prix  2022-11-20   \n",
       "\n",
       "            time                                                url  \\\n",
       "raceId                                                                \n",
       "1       06:00:00  http://en.wikipedia.org/wiki/2009_Australian_G...   \n",
       "2       09:00:00  http://en.wikipedia.org/wiki/2009_Malaysian_Gr...   \n",
       "3       07:00:00  http://en.wikipedia.org/wiki/2009_Chinese_Gran...   \n",
       "4       12:00:00  http://en.wikipedia.org/wiki/2009_Bahrain_Gran...   \n",
       "5       12:00:00  http://en.wikipedia.org/wiki/2009_Spanish_Gran...   \n",
       "...          ...                                                ...   \n",
       "1092    05:00:00  http://en.wikipedia.org/wiki/2022_Japanese_Gra...   \n",
       "1093    19:00:00  http://en.wikipedia.org/wiki/2022_United_State...   \n",
       "1094    20:00:00  http://en.wikipedia.org/wiki/2022_Mexican_Gran...   \n",
       "1095    18:00:00  http://en.wikipedia.org/wiki/2022_Brazilian_Gr...   \n",
       "1096    13:00:00  http://en.wikipedia.org/wiki/2022_Abu_Dhabi_Gr...   \n",
       "\n",
       "          fp1_date  fp1_time    fp2_date  fp2_time    fp3_date  fp3_time  \\\n",
       "raceId                                                                     \n",
       "1               \\N        \\N          \\N        \\N          \\N        \\N   \n",
       "2               \\N        \\N          \\N        \\N          \\N        \\N   \n",
       "3               \\N        \\N          \\N        \\N          \\N        \\N   \n",
       "4               \\N        \\N          \\N        \\N          \\N        \\N   \n",
       "5               \\N        \\N          \\N        \\N          \\N        \\N   \n",
       "...            ...       ...         ...       ...         ...       ...   \n",
       "1092    2022-10-07  04:00:00  2022-10-07  08:00:00  2022-10-08  04:00:00   \n",
       "1093    2022-10-21  19:00:00  2022-10-21  22:00:00  2022-10-22  19:00:00   \n",
       "1094    2022-10-28  18:00:00  2022-10-28  21:00:00  2022-10-29  17:00:00   \n",
       "1095    2022-11-11  15:30:00  2022-11-12  15:30:00          \\N        \\N   \n",
       "1096    2022-11-18  09:00:00  2022-11-18  12:00:00  2022-11-19  10:00:00   \n",
       "\n",
       "        quali_date quali_time sprint_date sprint_time  \n",
       "raceId                                                 \n",
       "1               \\N         \\N          \\N          \\N  \n",
       "2               \\N         \\N          \\N          \\N  \n",
       "3               \\N         \\N          \\N          \\N  \n",
       "4               \\N         \\N          \\N          \\N  \n",
       "5               \\N         \\N          \\N          \\N  \n",
       "...            ...        ...         ...         ...  \n",
       "1092    2022-10-08   07:00:00          \\N          \\N  \n",
       "1093    2022-10-22   22:00:00          \\N          \\N  \n",
       "1094    2022-10-29   20:00:00          \\N          \\N  \n",
       "1095    2022-11-11   19:00:00  2022-11-12    19:30:00  \n",
       "1096    2022-11-19   13:00:00          \\N          \\N  \n",
       "\n",
       "[1079 rows x 17 columns]"
      ]
     },
     "execution_count": 62,
     "metadata": {},
     "output_type": "execute_result"
    }
   ],
   "source": [
    "races_csv = base_path + '/data/races.csv'   #Read the races\n",
    "races_df = pd.read_csv(races_csv, sep=',', index_col='raceId')\n",
    "races_df"
   ]
  },
  {
   "cell_type": "markdown",
   "metadata": {},
   "source": [
    "Read the fans rating for the race weekends "
   ]
  },
  {
   "cell_type": "code",
   "execution_count": 63,
   "metadata": {},
   "outputs": [
    {
     "data": {
      "text/html": [
       "<div>\n",
       "<style scoped>\n",
       "    .dataframe tbody tr th:only-of-type {\n",
       "        vertical-align: middle;\n",
       "    }\n",
       "\n",
       "    .dataframe tbody tr th {\n",
       "        vertical-align: top;\n",
       "    }\n",
       "\n",
       "    .dataframe thead th {\n",
       "        text-align: right;\n",
       "    }\n",
       "</style>\n",
       "<table border=\"1\" class=\"dataframe\">\n",
       "  <thead>\n",
       "    <tr style=\"text-align: right;\">\n",
       "      <th></th>\n",
       "      <th>Y</th>\n",
       "      <th>R</th>\n",
       "      <th>GPNAME</th>\n",
       "      <th>P1</th>\n",
       "      <th>P2</th>\n",
       "      <th>P3</th>\n",
       "      <th>RATING</th>\n",
       "    </tr>\n",
       "  </thead>\n",
       "  <tbody>\n",
       "    <tr>\n",
       "      <th>0</th>\n",
       "      <td>2008</td>\n",
       "      <td>1</td>\n",
       "      <td>Australian GP</td>\n",
       "      <td>Hamilton</td>\n",
       "      <td>Heidfeld</td>\n",
       "      <td>Rosberg</td>\n",
       "      <td>7.609</td>\n",
       "    </tr>\n",
       "    <tr>\n",
       "      <th>1</th>\n",
       "      <td>2008</td>\n",
       "      <td>10</td>\n",
       "      <td>German GP</td>\n",
       "      <td>Hamilton</td>\n",
       "      <td>Piquet</td>\n",
       "      <td>Massa</td>\n",
       "      <td>7.180</td>\n",
       "    </tr>\n",
       "    <tr>\n",
       "      <th>2</th>\n",
       "      <td>2008</td>\n",
       "      <td>11</td>\n",
       "      <td>Hungarian GP</td>\n",
       "      <td>Kovalainen</td>\n",
       "      <td>Glock</td>\n",
       "      <td>Raikkonen</td>\n",
       "      <td>6.202</td>\n",
       "    </tr>\n",
       "    <tr>\n",
       "      <th>3</th>\n",
       "      <td>2008</td>\n",
       "      <td>12</td>\n",
       "      <td>European GP</td>\n",
       "      <td>Massa</td>\n",
       "      <td>Hamilton</td>\n",
       "      <td>Kubica</td>\n",
       "      <td>3.977</td>\n",
       "    </tr>\n",
       "    <tr>\n",
       "      <th>4</th>\n",
       "      <td>2008</td>\n",
       "      <td>13</td>\n",
       "      <td>Belgian GP</td>\n",
       "      <td>Massa</td>\n",
       "      <td>Heidfeld</td>\n",
       "      <td>Hamilton</td>\n",
       "      <td>7.736</td>\n",
       "    </tr>\n",
       "    <tr>\n",
       "      <th>...</th>\n",
       "      <td>...</td>\n",
       "      <td>...</td>\n",
       "      <td>...</td>\n",
       "      <td>...</td>\n",
       "      <td>...</td>\n",
       "      <td>...</td>\n",
       "      <td>...</td>\n",
       "    </tr>\n",
       "    <tr>\n",
       "      <th>197</th>\n",
       "      <td>2018</td>\n",
       "      <td>5</td>\n",
       "      <td>Spanish GP</td>\n",
       "      <td>Hamilton</td>\n",
       "      <td>Bottas</td>\n",
       "      <td>Verstappen</td>\n",
       "      <td>4.850</td>\n",
       "    </tr>\n",
       "    <tr>\n",
       "      <th>198</th>\n",
       "      <td>2018</td>\n",
       "      <td>6</td>\n",
       "      <td>Monaco GP</td>\n",
       "      <td>Ricciardo</td>\n",
       "      <td>Vettel</td>\n",
       "      <td>Hamilton</td>\n",
       "      <td>5.230</td>\n",
       "    </tr>\n",
       "    <tr>\n",
       "      <th>199</th>\n",
       "      <td>2018</td>\n",
       "      <td>7</td>\n",
       "      <td>Canadian GP</td>\n",
       "      <td>Vettel</td>\n",
       "      <td>Bottas</td>\n",
       "      <td>Verstappen</td>\n",
       "      <td>4.240</td>\n",
       "    </tr>\n",
       "    <tr>\n",
       "      <th>200</th>\n",
       "      <td>2018</td>\n",
       "      <td>8</td>\n",
       "      <td>French GP</td>\n",
       "      <td>Hamilton</td>\n",
       "      <td>Verstappen</td>\n",
       "      <td>Raikkonen</td>\n",
       "      <td>6.470</td>\n",
       "    </tr>\n",
       "    <tr>\n",
       "      <th>201</th>\n",
       "      <td>2018</td>\n",
       "      <td>9</td>\n",
       "      <td>Austrian GP</td>\n",
       "      <td>Verstappen</td>\n",
       "      <td>Raikkonen</td>\n",
       "      <td>Vettel</td>\n",
       "      <td>8.010</td>\n",
       "    </tr>\n",
       "  </tbody>\n",
       "</table>\n",
       "<p>202 rows × 7 columns</p>\n",
       "</div>"
      ],
      "text/plain": [
       "        Y   R         GPNAME          P1          P2          P3  RATING\n",
       "0    2008   1  Australian GP    Hamilton    Heidfeld     Rosberg   7.609\n",
       "1    2008  10      German GP    Hamilton      Piquet       Massa   7.180\n",
       "2    2008  11   Hungarian GP  Kovalainen       Glock   Raikkonen   6.202\n",
       "3    2008  12    European GP       Massa    Hamilton      Kubica   3.977\n",
       "4    2008  13     Belgian GP       Massa    Heidfeld    Hamilton   7.736\n",
       "..    ...  ..            ...         ...         ...         ...     ...\n",
       "197  2018   5     Spanish GP    Hamilton      Bottas  Verstappen   4.850\n",
       "198  2018   6      Monaco GP   Ricciardo      Vettel    Hamilton   5.230\n",
       "199  2018   7    Canadian GP      Vettel      Bottas  Verstappen   4.240\n",
       "200  2018   8      French GP    Hamilton  Verstappen   Raikkonen   6.470\n",
       "201  2018   9    Austrian GP  Verstappen   Raikkonen      Vettel   8.010\n",
       "\n",
       "[202 rows x 7 columns]"
      ]
     },
     "execution_count": 63,
     "metadata": {},
     "output_type": "execute_result"
    }
   ],
   "source": [
    "fan_ratings_csv = base_path + '/data/fan_ratings.csv'   #Read the races\n",
    "fan_ratings_df = pd.read_csv(fan_ratings_csv, sep=',')\n",
    "fan_ratings_df"
   ]
  },
  {
   "cell_type": "code",
   "execution_count": 64,
   "metadata": {},
   "outputs": [],
   "source": [
    "# Rename columns to be able to merge\n",
    "fan_ratings_df.rename(columns={'Y': 'year', 'R': 'round','RATING':'rating'}, inplace=True)\n",
    "fan_rated_races = pd.merge(races_df, fan_ratings_df, how='left', on=['year', 'round'])"
   ]
  },
  {
   "cell_type": "code",
   "execution_count": 67,
   "metadata": {},
   "outputs": [],
   "source": [
    "for raceId, row in fan_rated_races.iterrows():\n",
    "    idRWE = \"raceWeekEnd\"+str(raceId)\n",
    "    Race = URIRef(F1[idRWE])\n",
    "    \n",
    "    g.add((Race, RDF.type, F1.RaceWeekend))\n",
    "    g.add((Race, F1['name'], Literal(row['name'], datatype=XSD.string))) \n",
    "    g.add((Race, F1['year'], Literal(row['year'], datatype=XSD.int)))\n",
    "    g.add((Race, F1['round'], Literal(row['round'], datatype=XSD.int)))\n",
    "    g.add((Race, F1['date'], Literal(row['date'], datatype=XSD.date)))\n",
    "\n",
    "    if not np.isnan(row['rating']):\n",
    "        g.add((Race, F1['fans_rating'], Literal(row['rating'], datatype=XSD.float)))\n",
    "\n",
    "    #create circuit node\n",
    "    idC = 'circuit' + str(row['circuitId'])\n",
    "    Circuit = URIRef(F1[idC])\n",
    "\n",
    "    g.add((Race, F1['takePlaceIn'], Circuit))   "
   ]
  },
  {
   "cell_type": "markdown",
   "metadata": {},
   "source": [
    "Saving the data"
   ]
  },
  {
   "cell_type": "code",
   "execution_count": 68,
   "metadata": {},
   "outputs": [],
   "source": [
    "with open(base_path + '/rdf/raceWeekend.ttl', 'w') as file:\n",
    "    file.write(g.serialize(format='turtle'))"
   ]
  }
 ],
 "metadata": {
  "kernelspec": {
   "display_name": "Python 3.9.13 ('base')",
   "language": "python",
   "name": "python3"
  },
  "language_info": {
   "codemirror_mode": {
    "name": "ipython",
    "version": 3
   },
   "file_extension": ".py",
   "mimetype": "text/x-python",
   "name": "python",
   "nbconvert_exporter": "python",
   "pygments_lexer": "ipython3",
   "version": "3.9.13"
  },
  "orig_nbformat": 4,
  "vscode": {
   "interpreter": {
    "hash": "fa658e60ef6a7b9b249dd17cf59d474856e42949519070ff24e17083b6259c34"
   }
  }
 },
 "nbformat": 4,
 "nbformat_minor": 2
}
