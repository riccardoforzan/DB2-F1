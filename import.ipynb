{
 "cells": [
  {
   "cell_type": "code",
   "execution_count": 1,
   "metadata": {},
   "outputs": [],
   "source": [
    "import os\n",
    "import datetime\n",
    "import pandas as pd\n",
    "from pathlib import Path"
   ]
  },
  {
   "cell_type": "code",
   "execution_count": 2,
   "metadata": {},
   "outputs": [],
   "source": [
    "from rdflib import Graph, Literal, RDF, URIRef, Namespace\n",
    "from rdflib.namespace import FOAF, XSD"
   ]
  },
  {
   "cell_type": "markdown",
   "metadata": {},
   "source": [
    "Get the path in which the notebook is executing"
   ]
  },
  {
   "cell_type": "code",
   "execution_count": 3,
   "metadata": {},
   "outputs": [],
   "source": [
    "base_path = str(Path(os.path.abspath(os.getcwd())))"
   ]
  },
  {
   "cell_type": "markdown",
   "metadata": {},
   "source": [
    "Initialize external ontologies"
   ]
  },
  {
   "cell_type": "code",
   "execution_count": 4,
   "metadata": {},
   "outputs": [],
   "source": [
    "CNS = Namespace(\"http://eulersharp.sourceforge.net/2003/03swap/countries#\")\n",
    "F1 = Namespace(\"http://www.dei.unipd.it/database2/Formula1Ontology#\")"
   ]
  },
  {
   "cell_type": "markdown",
   "metadata": {},
   "source": [
    "Load the CSV files that maps between denominations and country"
   ]
  },
  {
   "cell_type": "code",
   "execution_count": 5,
   "metadata": {},
   "outputs": [],
   "source": [
    "denom_csv = base_path + '/utils/denom.csv'\n",
    "denom_df = pd.read_csv(denom_csv, sep=',')\n",
    "denom_df['country'] = denom_df['country'].str.replace(' ','')     #remove white spaces from country names"
   ]
  },
  {
   "cell_type": "markdown",
   "metadata": {},
   "source": [
    "# Import circuit data"
   ]
  },
  {
   "cell_type": "markdown",
   "metadata": {},
   "source": [
    "Create the graph"
   ]
  },
  {
   "cell_type": "code",
   "execution_count": null,
   "metadata": {},
   "outputs": [],
   "source": [
    "g = Graph()\n",
    "g.bind(\"foaf\", FOAF)\n",
    "g.bind(\"xsd\", XSD)\n",
    "g.bind(\"countries\", CNS)\n",
    "g.bind(\"f1\", F1)"
   ]
  },
  {
   "cell_type": "code",
   "execution_count": 36,
   "metadata": {},
   "outputs": [
    {
     "data": {
      "text/html": [
       "<div>\n",
       "<style scoped>\n",
       "    .dataframe tbody tr th:only-of-type {\n",
       "        vertical-align: middle;\n",
       "    }\n",
       "\n",
       "    .dataframe tbody tr th {\n",
       "        vertical-align: top;\n",
       "    }\n",
       "\n",
       "    .dataframe thead th {\n",
       "        text-align: right;\n",
       "    }\n",
       "</style>\n",
       "<table border=\"1\" class=\"dataframe\">\n",
       "  <thead>\n",
       "    <tr style=\"text-align: right;\">\n",
       "      <th></th>\n",
       "      <th>circuitRef</th>\n",
       "      <th>name</th>\n",
       "      <th>location</th>\n",
       "      <th>country</th>\n",
       "      <th>lat</th>\n",
       "      <th>lng</th>\n",
       "      <th>alt</th>\n",
       "      <th>url</th>\n",
       "    </tr>\n",
       "    <tr>\n",
       "      <th>circuitId</th>\n",
       "      <th></th>\n",
       "      <th></th>\n",
       "      <th></th>\n",
       "      <th></th>\n",
       "      <th></th>\n",
       "      <th></th>\n",
       "      <th></th>\n",
       "      <th></th>\n",
       "    </tr>\n",
       "  </thead>\n",
       "  <tbody>\n",
       "    <tr>\n",
       "      <th>1</th>\n",
       "      <td>albert_park</td>\n",
       "      <td>Albert Park Grand Prix Circuit</td>\n",
       "      <td>Melbourne</td>\n",
       "      <td>Australia</td>\n",
       "      <td>-37.84970</td>\n",
       "      <td>144.96800</td>\n",
       "      <td>10</td>\n",
       "      <td>http://en.wikipedia.org/wiki/Melbourne_Grand_P...</td>\n",
       "    </tr>\n",
       "    <tr>\n",
       "      <th>2</th>\n",
       "      <td>sepang</td>\n",
       "      <td>Sepang International Circuit</td>\n",
       "      <td>Kuala Lumpur</td>\n",
       "      <td>Malaysia</td>\n",
       "      <td>2.76083</td>\n",
       "      <td>101.73800</td>\n",
       "      <td>18</td>\n",
       "      <td>http://en.wikipedia.org/wiki/Sepang_Internatio...</td>\n",
       "    </tr>\n",
       "    <tr>\n",
       "      <th>3</th>\n",
       "      <td>bahrain</td>\n",
       "      <td>Bahrain International Circuit</td>\n",
       "      <td>Sakhir</td>\n",
       "      <td>Bahrain</td>\n",
       "      <td>26.03250</td>\n",
       "      <td>50.51060</td>\n",
       "      <td>7</td>\n",
       "      <td>http://en.wikipedia.org/wiki/Bahrain_Internati...</td>\n",
       "    </tr>\n",
       "    <tr>\n",
       "      <th>4</th>\n",
       "      <td>catalunya</td>\n",
       "      <td>Circuit de Barcelona-Catalunya</td>\n",
       "      <td>Montmeló</td>\n",
       "      <td>Spain</td>\n",
       "      <td>41.57000</td>\n",
       "      <td>2.26111</td>\n",
       "      <td>109</td>\n",
       "      <td>http://en.wikipedia.org/wiki/Circuit_de_Barcel...</td>\n",
       "    </tr>\n",
       "    <tr>\n",
       "      <th>5</th>\n",
       "      <td>istanbul</td>\n",
       "      <td>Istanbul Park</td>\n",
       "      <td>Istanbul</td>\n",
       "      <td>Turkey</td>\n",
       "      <td>40.95170</td>\n",
       "      <td>29.40500</td>\n",
       "      <td>130</td>\n",
       "      <td>http://en.wikipedia.org/wiki/Istanbul_Park</td>\n",
       "    </tr>\n",
       "    <tr>\n",
       "      <th>...</th>\n",
       "      <td>...</td>\n",
       "      <td>...</td>\n",
       "      <td>...</td>\n",
       "      <td>...</td>\n",
       "      <td>...</td>\n",
       "      <td>...</td>\n",
       "      <td>...</td>\n",
       "      <td>...</td>\n",
       "    </tr>\n",
       "    <tr>\n",
       "      <th>75</th>\n",
       "      <td>portimao</td>\n",
       "      <td>Autódromo Internacional do Algarve</td>\n",
       "      <td>Portimão</td>\n",
       "      <td>Portugal</td>\n",
       "      <td>37.22700</td>\n",
       "      <td>-8.62670</td>\n",
       "      <td>108</td>\n",
       "      <td>http://en.wikipedia.org/wiki/Algarve_Internati...</td>\n",
       "    </tr>\n",
       "    <tr>\n",
       "      <th>76</th>\n",
       "      <td>mugello</td>\n",
       "      <td>Autodromo Internazionale del Mugello</td>\n",
       "      <td>Mugello</td>\n",
       "      <td>Italy</td>\n",
       "      <td>43.99750</td>\n",
       "      <td>11.37190</td>\n",
       "      <td>255</td>\n",
       "      <td>http://en.wikipedia.org/wiki/Mugello_Circuit</td>\n",
       "    </tr>\n",
       "    <tr>\n",
       "      <th>77</th>\n",
       "      <td>jeddah</td>\n",
       "      <td>Jeddah Corniche Circuit</td>\n",
       "      <td>Jeddah</td>\n",
       "      <td>SaudiArabia</td>\n",
       "      <td>21.63190</td>\n",
       "      <td>39.10440</td>\n",
       "      <td>15</td>\n",
       "      <td>http://en.wikipedia.org/wiki/Jeddah_Street_Cir...</td>\n",
       "    </tr>\n",
       "    <tr>\n",
       "      <th>78</th>\n",
       "      <td>losail</td>\n",
       "      <td>Losail International Circuit</td>\n",
       "      <td>Al Daayen</td>\n",
       "      <td>Qatar</td>\n",
       "      <td>25.49000</td>\n",
       "      <td>51.45420</td>\n",
       "      <td>None</td>\n",
       "      <td>http://en.wikipedia.org/wiki/Losail_Internatio...</td>\n",
       "    </tr>\n",
       "    <tr>\n",
       "      <th>79</th>\n",
       "      <td>miami</td>\n",
       "      <td>Miami International Autodrome</td>\n",
       "      <td>Miami</td>\n",
       "      <td>USA</td>\n",
       "      <td>25.95810</td>\n",
       "      <td>-80.23890</td>\n",
       "      <td>None</td>\n",
       "      <td>http://en.wikipedia.org/wiki/Miami_Internation...</td>\n",
       "    </tr>\n",
       "  </tbody>\n",
       "</table>\n",
       "<p>76 rows × 8 columns</p>\n",
       "</div>"
      ],
      "text/plain": [
       "            circuitRef                                  name      location  \\\n",
       "circuitId                                                                    \n",
       "1          albert_park        Albert Park Grand Prix Circuit     Melbourne   \n",
       "2               sepang          Sepang International Circuit  Kuala Lumpur   \n",
       "3              bahrain         Bahrain International Circuit        Sakhir   \n",
       "4            catalunya        Circuit de Barcelona-Catalunya      Montmeló   \n",
       "5             istanbul                         Istanbul Park      Istanbul   \n",
       "...                ...                                   ...           ...   \n",
       "75            portimao    Autódromo Internacional do Algarve      Portimão   \n",
       "76             mugello  Autodromo Internazionale del Mugello       Mugello   \n",
       "77              jeddah               Jeddah Corniche Circuit        Jeddah   \n",
       "78              losail          Losail International Circuit     Al Daayen   \n",
       "79               miami         Miami International Autodrome         Miami   \n",
       "\n",
       "               country       lat        lng   alt  \\\n",
       "circuitId                                           \n",
       "1            Australia -37.84970  144.96800    10   \n",
       "2             Malaysia   2.76083  101.73800    18   \n",
       "3              Bahrain  26.03250   50.51060     7   \n",
       "4                Spain  41.57000    2.26111   109   \n",
       "5               Turkey  40.95170   29.40500   130   \n",
       "...                ...       ...        ...   ...   \n",
       "75            Portugal  37.22700   -8.62670   108   \n",
       "76               Italy  43.99750   11.37190   255   \n",
       "77         SaudiArabia  21.63190   39.10440    15   \n",
       "78               Qatar  25.49000   51.45420  None   \n",
       "79                 USA  25.95810  -80.23890  None   \n",
       "\n",
       "                                                         url  \n",
       "circuitId                                                     \n",
       "1          http://en.wikipedia.org/wiki/Melbourne_Grand_P...  \n",
       "2          http://en.wikipedia.org/wiki/Sepang_Internatio...  \n",
       "3          http://en.wikipedia.org/wiki/Bahrain_Internati...  \n",
       "4          http://en.wikipedia.org/wiki/Circuit_de_Barcel...  \n",
       "5                 http://en.wikipedia.org/wiki/Istanbul_Park  \n",
       "...                                                      ...  \n",
       "75         http://en.wikipedia.org/wiki/Algarve_Internati...  \n",
       "76              http://en.wikipedia.org/wiki/Mugello_Circuit  \n",
       "77         http://en.wikipedia.org/wiki/Jeddah_Street_Cir...  \n",
       "78         http://en.wikipedia.org/wiki/Losail_Internatio...  \n",
       "79         http://en.wikipedia.org/wiki/Miami_Internation...  \n",
       "\n",
       "[76 rows x 8 columns]"
      ]
     },
     "execution_count": 36,
     "metadata": {},
     "output_type": "execute_result"
    }
   ],
   "source": [
    "circuits_csv = base_path + '/data/circuits.csv'\n",
    "\n",
    "circuits_df = pd.read_csv(circuits_csv, sep=',', index_col='circuitId')\n",
    "circuits_df['alt'].replace(to_replace='\\\\N',value=None,inplace=True)    #remove '\\N' values from the dataset\n",
    "circuits_df['country'] = circuits_df['country'].str.replace(' ','')     #remove white spaces from country names\n"
   ]
  },
  {
   "cell_type": "markdown",
   "metadata": {},
   "source": [
    "Iterate over the circuit's data frame"
   ]
  },
  {
   "cell_type": "code",
   "execution_count": 39,
   "metadata": {},
   "outputs": [],
   "source": [
    "for index, row in circuits_df.iterrows():\n",
    "    idC = \"circuit\"+str(index)  # create a unique identifier for the circuit\n",
    "    Circuit = URIRef(F1[idC])   # create the circuit\n",
    "\n",
    "    g.add((Circuit, RDF.type, F1.Circuit))\n",
    "    g.add((Circuit, F1['name'], Literal(row['name'], datatype=XSD.string)))\n",
    "\n",
    "    if not row['alt'] == None:\n",
    "        g.add((Circuit, F1['altitude'], Literal(row['alt'], datatype=XSD.int)))\n",
    "\n",
    "    Country = URIRef(CNS[row['country']])\n",
    "    g.add((Circuit, F1['hasCountry'], Country))\n"
   ]
  },
  {
   "cell_type": "markdown",
   "metadata": {},
   "source": [
    "Export the serialized graph"
   ]
  },
  {
   "cell_type": "code",
   "execution_count": 41,
   "metadata": {},
   "outputs": [],
   "source": [
    "with open(base_path + '/rdf/circuits.ttl', 'w') as file:\n",
    "    file.write(g.serialize(format='turtle'))"
   ]
  },
  {
   "cell_type": "markdown",
   "metadata": {},
   "source": [
    "# Import constructor data"
   ]
  },
  {
   "cell_type": "markdown",
   "metadata": {},
   "source": [
    "Create the graph"
   ]
  },
  {
   "cell_type": "code",
   "execution_count": 15,
   "metadata": {},
   "outputs": [],
   "source": [
    "g = Graph()\n",
    "g.bind(\"foaf\", FOAF)\n",
    "g.bind(\"xsd\", XSD)\n",
    "g.bind(\"countries\", CNS)\n",
    "g.bind(\"f1\", F1)"
   ]
  },
  {
   "cell_type": "code",
   "execution_count": 16,
   "metadata": {},
   "outputs": [],
   "source": [
    "constructors_csv = base_path + '/data/constructors.csv'\n",
    "constructors_df = pd.read_csv(constructors_csv, sep=',', index_col='constructorId')"
   ]
  },
  {
   "cell_type": "markdown",
   "metadata": {},
   "source": [
    "Load constructor participation"
   ]
  },
  {
   "cell_type": "code",
   "execution_count": 18,
   "metadata": {},
   "outputs": [],
   "source": [
    "constructors_df = pd.merge(constructors_df, denom_df, on='nationality', how='inner')"
   ]
  },
  {
   "cell_type": "markdown",
   "metadata": {},
   "source": [
    "Load constructor's data"
   ]
  },
  {
   "cell_type": "code",
   "execution_count": 27,
   "metadata": {},
   "outputs": [],
   "source": [
    "constructor_standings_csv = base_path + '/data/constructor_standings.csv'\n",
    "constructor_standings_df = pd.read_csv(constructor_standings_csv, sep=',', index_col='constructorStandingsId')"
   ]
  },
  {
   "cell_type": "code",
   "execution_count": 30,
   "metadata": {},
   "outputs": [],
   "source": [
    "constructor_results_csv = base_path + '/data/constructor_results.csv'\n",
    "constructor_results_df = pd.read_csv(constructor_results_csv, sep=',', index_col='constructorResultsId')"
   ]
  },
  {
   "cell_type": "markdown",
   "metadata": {},
   "source": [
    "Iterate over the constructor's data frame"
   ]
  },
  {
   "cell_type": "code",
   "execution_count": 34,
   "metadata": {},
   "outputs": [],
   "source": [
    "for constructorId, row in constructors_df.iterrows():\n",
    "    idCons = \"constructor\"+str(constructorId)   #unique identifier for the constructor\n",
    "    Constructor = URIRef(F1[idCons])\n",
    "\n",
    "    g.add((Constructor, RDF.type, F1.Constructor))\n",
    "    g.add((Constructor, F1['name'], Literal(row['name'], datatype=XSD.string)))\n",
    "\n",
    "    Country = URIRef(CNS[row['country']])\n",
    "    g.add((Constructor, F1['hasCountry'], Country))\n",
    "\n",
    "    # Find all the races in which a constructor has participated\n",
    "    participatedRaces = constructor_results_df.loc[constructor_results_df['constructorId'] == constructorId]\n",
    "\n",
    "    for participationId, row in participatedRaces.iterrows():\n",
    "        idPart = \"participation\"+str(participationId)\n",
    "        Participate = URIRef(F1[idPart])\n",
    "        g.add((Participate, RDF.type, F1.Participate))\n",
    "\n",
    "        #searching the constructor standing data (points, number of victories and position) after the participation \n",
    "        g.add((Participate, F1['points_after_race'], Literal(constructor_standings_df['points'].iloc[0], datatype=XSD.int)))\n",
    "        g.add((Participate, F1['position_after_race'], Literal(constructor_standings_df['position'].iloc[0], datatype=XSD.int)))\n",
    "        g.add((Participate, F1['number_of_wins'], Literal(constructor_standings_df['wins'].iloc[0], datatype=XSD.int)))\n",
    "\n",
    "        #add the race_weekend associated to the drive\n",
    "        idRWE = \"raceWeekEnd\"+str(row['raceId'])\n",
    "        g.add((Participate, F1['during'], URIRef(F1[idRWE])))\n",
    "\n",
    "        #add the drive\n",
    "        g.add((Constructor, F1['appearIn'], Participate))"
   ]
  },
  {
   "cell_type": "markdown",
   "metadata": {},
   "source": [
    "Saving data"
   ]
  },
  {
   "cell_type": "code",
   "execution_count": 36,
   "metadata": {},
   "outputs": [],
   "source": [
    "with open(base_path + '/rdf/constructors.ttl', 'w') as file:\n",
    "    file.write(g.serialize(format='turtle'))"
   ]
  },
  {
   "cell_type": "markdown",
   "metadata": {},
   "source": [
    "# Import driver data"
   ]
  },
  {
   "cell_type": "markdown",
   "metadata": {},
   "source": [
    "Create the graph"
   ]
  },
  {
   "cell_type": "code",
   "execution_count": 10,
   "metadata": {},
   "outputs": [],
   "source": [
    "g = Graph()\n",
    "g.bind(\"foaf\", FOAF)\n",
    "g.bind(\"xsd\", XSD)\n",
    "g.bind(\"countries\", CNS)\n",
    "g.bind(\"f1\", F1)"
   ]
  },
  {
   "cell_type": "code",
   "execution_count": 16,
   "metadata": {},
   "outputs": [
    {
     "data": {
      "text/html": [
       "<div>\n",
       "<style scoped>\n",
       "    .dataframe tbody tr th:only-of-type {\n",
       "        vertical-align: middle;\n",
       "    }\n",
       "\n",
       "    .dataframe tbody tr th {\n",
       "        vertical-align: top;\n",
       "    }\n",
       "\n",
       "    .dataframe thead th {\n",
       "        text-align: right;\n",
       "    }\n",
       "</style>\n",
       "<table border=\"1\" class=\"dataframe\">\n",
       "  <thead>\n",
       "    <tr style=\"text-align: right;\">\n",
       "      <th></th>\n",
       "      <th>driverRef</th>\n",
       "      <th>number</th>\n",
       "      <th>code</th>\n",
       "      <th>forename</th>\n",
       "      <th>surname</th>\n",
       "      <th>dob</th>\n",
       "      <th>nationality</th>\n",
       "      <th>url</th>\n",
       "      <th>country</th>\n",
       "    </tr>\n",
       "  </thead>\n",
       "  <tbody>\n",
       "    <tr>\n",
       "      <th>0</th>\n",
       "      <td>hamilton</td>\n",
       "      <td>44</td>\n",
       "      <td>HAM</td>\n",
       "      <td>Lewis</td>\n",
       "      <td>Hamilton</td>\n",
       "      <td>1985-01-07</td>\n",
       "      <td>British</td>\n",
       "      <td>http://en.wikipedia.org/wiki/Lewis_Hamilton</td>\n",
       "      <td>UnitedKingdom</td>\n",
       "    </tr>\n",
       "    <tr>\n",
       "      <th>1</th>\n",
       "      <td>coulthard</td>\n",
       "      <td>None</td>\n",
       "      <td>COU</td>\n",
       "      <td>David</td>\n",
       "      <td>Coulthard</td>\n",
       "      <td>1971-03-27</td>\n",
       "      <td>British</td>\n",
       "      <td>http://en.wikipedia.org/wiki/David_Coulthard</td>\n",
       "      <td>UnitedKingdom</td>\n",
       "    </tr>\n",
       "    <tr>\n",
       "      <th>2</th>\n",
       "      <td>button</td>\n",
       "      <td>22</td>\n",
       "      <td>BUT</td>\n",
       "      <td>Jenson</td>\n",
       "      <td>Button</td>\n",
       "      <td>1980-01-19</td>\n",
       "      <td>British</td>\n",
       "      <td>http://en.wikipedia.org/wiki/Jenson_Button</td>\n",
       "      <td>UnitedKingdom</td>\n",
       "    </tr>\n",
       "    <tr>\n",
       "      <th>3</th>\n",
       "      <td>davidson</td>\n",
       "      <td>None</td>\n",
       "      <td>DAV</td>\n",
       "      <td>Anthony</td>\n",
       "      <td>Davidson</td>\n",
       "      <td>1979-04-18</td>\n",
       "      <td>British</td>\n",
       "      <td>http://en.wikipedia.org/wiki/Anthony_Davidson</td>\n",
       "      <td>UnitedKingdom</td>\n",
       "    </tr>\n",
       "    <tr>\n",
       "      <th>4</th>\n",
       "      <td>wilson</td>\n",
       "      <td>None</td>\n",
       "      <td>\\N</td>\n",
       "      <td>Justin</td>\n",
       "      <td>Wilson</td>\n",
       "      <td>1978-07-31</td>\n",
       "      <td>British</td>\n",
       "      <td>http://en.wikipedia.org/wiki/Justin_Wilson_(ra...</td>\n",
       "      <td>UnitedKingdom</td>\n",
       "    </tr>\n",
       "    <tr>\n",
       "      <th>...</th>\n",
       "      <td>...</td>\n",
       "      <td>...</td>\n",
       "      <td>...</td>\n",
       "      <td>...</td>\n",
       "      <td>...</td>\n",
       "      <td>...</td>\n",
       "      <td>...</td>\n",
       "      <td>...</td>\n",
       "      <td>...</td>\n",
       "    </tr>\n",
       "    <tr>\n",
       "      <th>846</th>\n",
       "      <td>kvyat</td>\n",
       "      <td>26</td>\n",
       "      <td>KVY</td>\n",
       "      <td>Daniil</td>\n",
       "      <td>Kvyat</td>\n",
       "      <td>1994-04-26</td>\n",
       "      <td>Russian</td>\n",
       "      <td>http://en.wikipedia.org/wiki/Daniil_Kvyat</td>\n",
       "      <td>Russia</td>\n",
       "    </tr>\n",
       "    <tr>\n",
       "      <th>847</th>\n",
       "      <td>sirotkin</td>\n",
       "      <td>35</td>\n",
       "      <td>SIR</td>\n",
       "      <td>Sergey</td>\n",
       "      <td>Sirotkin</td>\n",
       "      <td>1995-08-27</td>\n",
       "      <td>Russian</td>\n",
       "      <td>http://en.wikipedia.org/wiki/Sergey_Sirotkin_(...</td>\n",
       "      <td>Russia</td>\n",
       "    </tr>\n",
       "    <tr>\n",
       "      <th>848</th>\n",
       "      <td>mazepin</td>\n",
       "      <td>9</td>\n",
       "      <td>MAZ</td>\n",
       "      <td>Nikita</td>\n",
       "      <td>Mazepin</td>\n",
       "      <td>1999-03-02</td>\n",
       "      <td>Russian</td>\n",
       "      <td>http://en.wikipedia.org/wiki/Nikita_Mazepin</td>\n",
       "      <td>Russia</td>\n",
       "    </tr>\n",
       "    <tr>\n",
       "      <th>849</th>\n",
       "      <td>haryanto</td>\n",
       "      <td>88</td>\n",
       "      <td>HAR</td>\n",
       "      <td>Rio</td>\n",
       "      <td>Haryanto</td>\n",
       "      <td>1993-01-22</td>\n",
       "      <td>Indonesian</td>\n",
       "      <td>http://en.wikipedia.org/wiki/Rio_Haryanto</td>\n",
       "      <td>Indonesia</td>\n",
       "    </tr>\n",
       "    <tr>\n",
       "      <th>850</th>\n",
       "      <td>zhou</td>\n",
       "      <td>24</td>\n",
       "      <td>ZHO</td>\n",
       "      <td>Guanyu</td>\n",
       "      <td>Zhou</td>\n",
       "      <td>1999-05-30</td>\n",
       "      <td>Chinese</td>\n",
       "      <td>http://en.wikipedia.org/wiki/Guanyu_Zhou</td>\n",
       "      <td>China</td>\n",
       "    </tr>\n",
       "  </tbody>\n",
       "</table>\n",
       "<p>851 rows × 9 columns</p>\n",
       "</div>"
      ],
      "text/plain": [
       "     driverRef number code forename    surname         dob nationality  \\\n",
       "0     hamilton     44  HAM    Lewis   Hamilton  1985-01-07     British   \n",
       "1    coulthard   None  COU    David  Coulthard  1971-03-27     British   \n",
       "2       button     22  BUT   Jenson     Button  1980-01-19     British   \n",
       "3     davidson   None  DAV  Anthony   Davidson  1979-04-18     British   \n",
       "4       wilson   None   \\N   Justin     Wilson  1978-07-31     British   \n",
       "..         ...    ...  ...      ...        ...         ...         ...   \n",
       "846      kvyat     26  KVY   Daniil      Kvyat  1994-04-26     Russian   \n",
       "847   sirotkin     35  SIR   Sergey   Sirotkin  1995-08-27     Russian   \n",
       "848    mazepin      9  MAZ   Nikita    Mazepin  1999-03-02     Russian   \n",
       "849   haryanto     88  HAR      Rio   Haryanto  1993-01-22  Indonesian   \n",
       "850       zhou     24  ZHO   Guanyu       Zhou  1999-05-30     Chinese   \n",
       "\n",
       "                                                   url        country  \n",
       "0          http://en.wikipedia.org/wiki/Lewis_Hamilton  UnitedKingdom  \n",
       "1         http://en.wikipedia.org/wiki/David_Coulthard  UnitedKingdom  \n",
       "2           http://en.wikipedia.org/wiki/Jenson_Button  UnitedKingdom  \n",
       "3        http://en.wikipedia.org/wiki/Anthony_Davidson  UnitedKingdom  \n",
       "4    http://en.wikipedia.org/wiki/Justin_Wilson_(ra...  UnitedKingdom  \n",
       "..                                                 ...            ...  \n",
       "846          http://en.wikipedia.org/wiki/Daniil_Kvyat         Russia  \n",
       "847  http://en.wikipedia.org/wiki/Sergey_Sirotkin_(...         Russia  \n",
       "848        http://en.wikipedia.org/wiki/Nikita_Mazepin         Russia  \n",
       "849          http://en.wikipedia.org/wiki/Rio_Haryanto      Indonesia  \n",
       "850           http://en.wikipedia.org/wiki/Guanyu_Zhou          China  \n",
       "\n",
       "[851 rows x 9 columns]"
      ]
     },
     "execution_count": 16,
     "metadata": {},
     "output_type": "execute_result"
    }
   ],
   "source": [
    "drivers_csv = base_path + '/data/drivers.csv'   #Read the drivers\n",
    "driver_df = pd.read_csv(drivers_csv, sep=',', index_col='driverId')\n",
    "driver_df['number'].replace(to_replace='\\\\N',value=None,inplace=True)       #remove '\\N' values from the dataset\n",
    "driver_df['code'].replace(to_replace='\\\\N',value=None,inplace=True)         #remove '\\N' values from the dataset\n",
    "driver_df = pd.merge(driver_df, denom_df, on='nationality', how='inner')    #associate the nationality"
   ]
  },
  {
   "cell_type": "code",
   "execution_count": 18,
   "metadata": {},
   "outputs": [],
   "source": [
    "races_csv = base_path + '/data/races.csv'   #Read the races\n",
    "races_df = pd.read_csv(races_csv, sep=',', index_col='raceId')"
   ]
  },
  {
   "cell_type": "code",
   "execution_count": 19,
   "metadata": {},
   "outputs": [],
   "source": [
    "results_csv = base_path + '/data/results.csv'\n",
    "results_df = pd.read_csv(results_csv, sep=',', index_col='resultId')"
   ]
  },
  {
   "cell_type": "code",
   "execution_count": 20,
   "metadata": {},
   "outputs": [],
   "source": [
    "qualifying_csv = base_path + '/data/qualifying.csv'\n",
    "qualifying_df = pd.read_csv(qualifying_csv, sep=',', index_col='qualifyId')"
   ]
  },
  {
   "cell_type": "code",
   "execution_count": 21,
   "metadata": {},
   "outputs": [],
   "source": [
    "sprint_races_csv = base_path + '/data/sprint_results.csv'\n",
    "sprint_races_df = pd.read_csv(sprint_races_csv, sep=',', index_col='resultId')"
   ]
  },
  {
   "cell_type": "code",
   "execution_count": 22,
   "metadata": {},
   "outputs": [],
   "source": [
    "driver_standings_csv = base_path + '/data/driver_standings.csv'\n",
    "driver_standings_df = pd.read_csv(driver_standings_csv, sep=',', index_col='driverStandingsId')"
   ]
  },
  {
   "cell_type": "code",
   "execution_count": 23,
   "metadata": {},
   "outputs": [],
   "source": [
    "for driverId, row in driver_df.iterrows():\n",
    "    idD = \"driver\"+str(driverId)\n",
    "    Driver = URIRef(F1[idD])\n",
    "    g.add((Driver, RDF.type, F1.Driver))\n",
    "    g.add((Driver, F1['firstName'], Literal(row['forename'], datatype=XSD.string)))\n",
    "    g.add((Driver, F1['lastName'], Literal(row['surname'], datatype=XSD.string)))\n",
    "\n",
    "    if row['number'] != None:\n",
    "        g.add((Driver, F1['driverNumber'], Literal(row['number'], datatype=XSD.int)))\n",
    "    \n",
    "    if row['code'] != None:\n",
    "        g.add((Driver, F1['driverCode'], Literal(row['code'], datatype=XSD.string)))       \n",
    "\n",
    "    Country = URIRef(CNS[row['country']])\n",
    "    g.add((Driver, F1['hasCountry'], Country))\n",
    "\n",
    "    #get all the race results of the given driver, this is the driver's drive\n",
    "    driverDrives = results_df.loc[results_df['driverId'] == driverId] \n",
    "\n",
    "    for driveId, row in driverDrives.iterrows():\n",
    "        idDrive = \"drive\"+str(driveId)\n",
    "        Drive = URIRef(F1[idDrive])\n",
    "\n",
    "        g.add((Drive, RDF.type, F1.Drive))\n",
    "        g.add((Drive, F1['race_position'], Literal(row['positionOrder'], datatype=XSD.string))) \n",
    "        g.add((Drive, F1['fast_lap'], Literal(row['fastestLapTime'], datatype=XSD.string)))\n",
    "\n",
    "        #id of the constructor for which this driver drives\n",
    "        idCons = \"constructor\"+str(row['constructorId'])\n",
    "        g.add((Drive, F1['driveFor'], URIRef(F1[idCons])))\n",
    "\n",
    "        #searching the qualify of the given driver in the given drive \n",
    "        qualifyDriver = qualifying_df.loc[(qualifying_df['driverId'] == driverId) & (qualifying_df['raceId'] == row['raceId'])] \n",
    "\n",
    "        #check for qualify times\n",
    "        if qualifyDriver.size > 0:\n",
    "            g.add((Drive, F1['quali_position'], Literal(qualifyDriver['position'].iloc[0], datatype=XSD.int)))\n",
    "            g.add((Drive, F1['q1'], Literal(qualifyDriver['q1'].iloc[0], datatype=XSD.string)))\n",
    "            g.add((Drive, F1['q2'], Literal(qualifyDriver['q2'].iloc[0], datatype=XSD.string)))\n",
    "            g.add((Drive, F1['q3'], Literal(qualifyDriver['q3'].iloc[0], datatype=XSD.string)))\n",
    "\n",
    "        #searching the sprint_race position of the given driver in the given drive if present\n",
    "        sprintDriver = sprint_races_df.loc[(sprint_races_df['driverId'] == driverId) & (sprint_races_df['raceId'] == row['raceId'])]\n",
    "\n",
    "        #check for sprint_race position\n",
    "        if sprintDriver.size > 0:\n",
    "            g.add((Drive, F1['quali_position'], Literal(sprintDriver['position'].iloc[0], datatype=XSD.string)))\n",
    "\n",
    "        #searching the driver standing data (points, number of victories and position) after the drive \n",
    "        g.add((Drive, F1['points_after_race'], Literal(driver_standings_df['points'].iloc[0], datatype=XSD.int)))\n",
    "        g.add((Drive, F1['position_after_race'], Literal(driver_standings_df['position'].iloc[0], datatype=XSD.int)))\n",
    "        g.add((Drive, F1['number_of_wins'], Literal(driver_standings_df['wins'].iloc[0], datatype=XSD.int)))\n",
    "\n",
    "        #add the race_weekend associated to the drive\n",
    "        idRWE = \"raceWeekEnd\"+str(row['raceId'])\n",
    "        g.add((Drive, F1['during'], URIRef(F1[idRWE])))  \n",
    "\n",
    "        #add the drive\n",
    "        g.add((Driver, F1['appearIn'], Drive))\n"
   ]
  },
  {
   "cell_type": "markdown",
   "metadata": {},
   "source": [
    "Saving the data"
   ]
  },
  {
   "cell_type": "code",
   "execution_count": null,
   "metadata": {},
   "outputs": [],
   "source": [
    "with open(base_path + '/rdf/drivers.ttl', 'w') as file:\n",
    "    file.write(g.serialize(format='turtle'))"
   ]
  }
 ],
 "metadata": {
  "kernelspec": {
   "display_name": "Python 3.9.13 ('base')",
   "language": "python",
   "name": "python3"
  },
  "language_info": {
   "codemirror_mode": {
    "name": "ipython",
    "version": 3
   },
   "file_extension": ".py",
   "mimetype": "text/x-python",
   "name": "python",
   "nbconvert_exporter": "python",
   "pygments_lexer": "ipython3",
   "version": "3.9.13"
  },
  "orig_nbformat": 4,
  "vscode": {
   "interpreter": {
    "hash": "c6e4e9f98eb68ad3b7c296f83d20e6de614cb42e90992a65aa266555a3137d0d"
   }
  }
 },
 "nbformat": 4,
 "nbformat_minor": 2
}
